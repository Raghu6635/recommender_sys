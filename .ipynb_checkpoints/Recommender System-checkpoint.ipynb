{
 "cells": [
  {
   "cell_type": "markdown",
   "metadata": {},
   "source": [
    "# Background:\n",
    "Since we have information about both our users(age, sex, height, location) and the training academies(Year established, location, facilites etc) we should build a model that takes this total information into account and finds the matching pairs. \n",
    "\n",
    "Here I will assume that a csv file will be given as input to the neural network and the csv file will have 11 columns such that the first five columns will contain user data - Age, Sex, Level, Height, Location and the next five columns will contain training camp data - Year_established, Location, Facilities, trainer_student_ratio, Cost. The 11th column - Match, will contain value 1 if the user and the camp is a match else zero. We can get this information from our previous data. If users attended a camp previously and liked it we can call it a match or if a user doesn't prefer to go to particular training camp we can assign it a value zero. Once we have enough data we can train our neural network.\n",
    "\n",
    "## Preprocessing data:\n",
    "The data should contain all numerical values i.e., the attribute \"Facilities\", \"Level\" should have a numerical rank on a pre defined scale and the \"Location\" attribute should also give a numerical value. The attibutes like \"Sex\" should be converted to categorical values i.e., it should be converted to two columns corresponding to male and female and should only have values 0 and 1. Once we have numerical values we can scale all the values to the range 0 and 1 for efficient training. This can be easily done in pandas."
   ]
  },
  {
   "cell_type": "code",
   "execution_count": 6,
   "metadata": {
    "collapsed": true
   },
   "outputs": [],
   "source": [
    "import numpy as np\n",
    "import pandas as pd\n",
    "import tensorflow as tf\n",
    "sess = tf.InteractiveSession()"
   ]
  },
  {
   "cell_type": "code",
   "execution_count": 10,
   "metadata": {},
   "outputs": [],
   "source": [
    "data_path = 'data.csv'\n",
    "\n",
    "users = pd.read_csv(data_path)"
   ]
  },
  {
   "cell_type": "code",
   "execution_count": 12,
   "metadata": {},
   "outputs": [
    {
     "data": {
      "text/html": [
       "<div>\n",
       "<style>\n",
       "    .dataframe thead tr:only-child th {\n",
       "        text-align: right;\n",
       "    }\n",
       "\n",
       "    .dataframe thead th {\n",
       "        text-align: left;\n",
       "    }\n",
       "\n",
       "    .dataframe tbody tr th {\n",
       "        vertical-align: top;\n",
       "    }\n",
       "</style>\n",
       "<table border=\"1\" class=\"dataframe\">\n",
       "  <thead>\n",
       "    <tr style=\"text-align: right;\">\n",
       "      <th></th>\n",
       "      <th>Age</th>\n",
       "      <th>Level</th>\n",
       "      <th>Height</th>\n",
       "      <th>Location</th>\n",
       "      <th>Year_established</th>\n",
       "      <th>Location.1</th>\n",
       "      <th>Facilities</th>\n",
       "      <th>trainer_student_ratio</th>\n",
       "      <th>Cost</th>\n",
       "      <th>Match</th>\n",
       "      <th>Sex_0</th>\n",
       "    </tr>\n",
       "  </thead>\n",
       "  <tbody>\n",
       "    <tr>\n",
       "      <th>0</th>\n",
       "      <td>0</td>\n",
       "      <td>0</td>\n",
       "      <td>0</td>\n",
       "      <td>0</td>\n",
       "      <td>0</td>\n",
       "      <td>0</td>\n",
       "      <td>0</td>\n",
       "      <td>0</td>\n",
       "      <td>0</td>\n",
       "      <td>0</td>\n",
       "      <td>1</td>\n",
       "    </tr>\n",
       "    <tr>\n",
       "      <th>1</th>\n",
       "      <td>0</td>\n",
       "      <td>0</td>\n",
       "      <td>0</td>\n",
       "      <td>0</td>\n",
       "      <td>0</td>\n",
       "      <td>0</td>\n",
       "      <td>0</td>\n",
       "      <td>0</td>\n",
       "      <td>0</td>\n",
       "      <td>0</td>\n",
       "      <td>1</td>\n",
       "    </tr>\n",
       "    <tr>\n",
       "      <th>2</th>\n",
       "      <td>0</td>\n",
       "      <td>0</td>\n",
       "      <td>0</td>\n",
       "      <td>0</td>\n",
       "      <td>0</td>\n",
       "      <td>0</td>\n",
       "      <td>0</td>\n",
       "      <td>0</td>\n",
       "      <td>0</td>\n",
       "      <td>0</td>\n",
       "      <td>1</td>\n",
       "    </tr>\n",
       "    <tr>\n",
       "      <th>3</th>\n",
       "      <td>0</td>\n",
       "      <td>0</td>\n",
       "      <td>0</td>\n",
       "      <td>0</td>\n",
       "      <td>0</td>\n",
       "      <td>0</td>\n",
       "      <td>0</td>\n",
       "      <td>0</td>\n",
       "      <td>0</td>\n",
       "      <td>0</td>\n",
       "      <td>1</td>\n",
       "    </tr>\n",
       "    <tr>\n",
       "      <th>4</th>\n",
       "      <td>0</td>\n",
       "      <td>0</td>\n",
       "      <td>0</td>\n",
       "      <td>0</td>\n",
       "      <td>0</td>\n",
       "      <td>0</td>\n",
       "      <td>0</td>\n",
       "      <td>0</td>\n",
       "      <td>0</td>\n",
       "      <td>0</td>\n",
       "      <td>1</td>\n",
       "    </tr>\n",
       "  </tbody>\n",
       "</table>\n",
       "</div>"
      ],
      "text/plain": [
       "   Age  Level  Height  Location  Year_established  Location.1  Facilities  \\\n",
       "0    0      0       0         0                 0           0           0   \n",
       "1    0      0       0         0                 0           0           0   \n",
       "2    0      0       0         0                 0           0           0   \n",
       "3    0      0       0         0                 0           0           0   \n",
       "4    0      0       0         0                 0           0           0   \n",
       "\n",
       "   trainer_student_ratio  Cost  Match  Sex_0  \n",
       "0                      0     0      0      1  \n",
       "1                      0     0      0      1  \n",
       "2                      0     0      0      1  \n",
       "3                      0     0      0      1  \n",
       "4                      0     0      0      1  "
      ]
     },
     "execution_count": 12,
     "metadata": {},
     "output_type": "execute_result"
    }
   ],
   "source": [
    "dummy_fields = ['Sex']\n",
    "for each in dummy_fields:\n",
    "    dummies = pd.get_dummies(users[each], prefix=each, drop_first=False)\n",
    "    users = pd.concat([users, dummies], axis=1)\n",
    "\n",
    "fields_to_drop = ['Sex']\n",
    "data = users.drop(fields_to_drop, axis=1)\n",
    "data.head()"
   ]
  },
  {
   "cell_type": "code",
   "execution_count": 13,
   "metadata": {},
   "outputs": [],
   "source": [
    "quant_features = ['Age', 'Height', 'Location', 'Cost', 'Year_established', ]\n",
    "# Store scalings in a dictionary so we can convert back later\n",
    "scaled_features = {}\n",
    "for each in quant_features:\n",
    "    mean, std = data[each].mean(), data[each].std()\n",
    "    scaled_features[each] = [mean, std]\n",
    "    data.loc[:, each] = (data[each] - mean)/std"
   ]
  },
  {
   "cell_type": "markdown",
   "metadata": {
    "collapsed": true
   },
   "source": [
    "## Split data:\n",
    "After preprocessing we will now have 12 columns. We should now split the data into training, and testing set."
   ]
  },
  {
   "cell_type": "code",
   "execution_count": 14,
   "metadata": {},
   "outputs": [],
   "source": [
    "# Save data for the last 20 rows \n",
    "test_data = data[-20:]\n",
    "\n",
    "# Now remove the test data from the data set \n",
    "data = data[:-20]\n",
    "\n",
    "# Separate the data into features and targets\n",
    "target_fields = ['Match']\n",
    "train_features, train_targets = data.drop(target_fields, axis=1), data[target_fields]\n",
    "test_features, test_targets = test_data.drop(target_fields, axis=1), test_data[target_fields]"
   ]
  },
  {
   "cell_type": "markdown",
   "metadata": {},
   "source": [
    "## Building Model:"
   ]
  },
  {
   "cell_type": "code",
   "execution_count": 35,
   "metadata": {},
   "outputs": [],
   "source": [
    "x = tf.placeholder(tf.float32, shape=[None, 10])\n",
    "y_ = tf.placeholder(tf.float32, shape=[None, 1])\n",
    "\n",
    "W = tf.Variable(tf.zeros([10,10]))\n",
    "W1 = tf.Variable(tf.zeros([10, 1]))\n",
    "b = tf.Variable(tf.zeros([10]))\n",
    "\n",
    "sess.run(tf.global_variables_initializer())\n",
    "\n",
    "output = tf.matmul(x,W) + b\n",
    "\n",
    "y = np.sum(tf.matmul(output, W1))\n",
    "\n",
    "cross_entropy = tf.reduce_mean(tf.nn.softmax_cross_entropy_with_logits(y, y_))"
   ]
  },
  {
   "cell_type": "markdown",
   "metadata": {},
   "source": [
    "## Training:"
   ]
  },
  {
   "cell_type": "code",
   "execution_count": 36,
   "metadata": {},
   "outputs": [],
   "source": [
    "train_step = tf.train.GradientDescentOptimizer(0.5).minimize(cross_entropy)\n",
    "train_step.run(feed_dict={x: train_features, y_: train_targets})"
   ]
  },
  {
   "cell_type": "markdown",
   "metadata": {},
   "source": [
    "## Evaluation:"
   ]
  },
  {
   "cell_type": "code",
   "execution_count": 37,
   "metadata": {},
   "outputs": [],
   "source": [
    "correct_prediction = tf.equal(tf.round(y), y_)\n",
    "accuracy = tf.reduce_mean(tf.cast(correct_prediction, tf.float32))"
   ]
  },
  {
   "cell_type": "code",
   "execution_count": 41,
   "metadata": {},
   "outputs": [
    {
     "data": {
      "text/plain": [
       "0.0"
      ]
     },
     "execution_count": 41,
     "metadata": {},
     "output_type": "execute_result"
    }
   ],
   "source": [
    "accuracy.eval(feed_dict={x: train_features, y_: train_targets})"
   ]
  },
  {
   "cell_type": "markdown",
   "metadata": {},
   "source": [
    "## Testing:"
   ]
  },
  {
   "cell_type": "code",
   "execution_count": 42,
   "metadata": {},
   "outputs": [
    {
     "data": {
      "text/plain": [
       "0.0"
      ]
     },
     "execution_count": 42,
     "metadata": {},
     "output_type": "execute_result"
    }
   ],
   "source": [
    "accuracy.eval(feed_dict={x: test_features, y_: test_targets})"
   ]
  },
  {
   "cell_type": "markdown",
   "metadata": {},
   "source": [
    "## To get the output:\n",
    "Once we have trained the neural network, we can save the parameters W, W1 and b. We can now easily get a measure of whether a user and a training camp are good match by solving the following equation:\n",
    "\n",
    "    Y = ((X*W) + b) * W1\n",
    "\n",
    "Here the first 5 columns of x is user data and next 5 columns are training camp data. If we want to get results for a particular user against a set of training camps we can create a matrix with first 5 columns having the same user data and the next 5 columns will have data from this set of training camps. After doing the above operation we get an output matrix Y with values indicating matching percentage. We can select the top n rows and recommend the corresponding training camp to the user."
   ]
  }
 ],
 "metadata": {
  "kernelspec": {
   "display_name": "Python 3",
   "language": "python",
   "name": "python3"
  },
  "language_info": {
   "codemirror_mode": {
    "name": "ipython",
    "version": 3
   },
   "file_extension": ".py",
   "mimetype": "text/x-python",
   "name": "python",
   "nbconvert_exporter": "python",
   "pygments_lexer": "ipython3",
   "version": "3.5.2"
  },
  "widgets": {
   "state": {},
   "version": "1.1.2"
  }
 },
 "nbformat": 4,
 "nbformat_minor": 2
}
